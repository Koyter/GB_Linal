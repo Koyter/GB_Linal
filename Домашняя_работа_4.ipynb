{
  "nbformat": 4,
  "nbformat_minor": 0,
  "metadata": {
    "colab": {
      "name": "Домашняя работа 4.ipynb",
      "provenance": [],
      "collapsed_sections": [],
      "authorship_tag": "ABX9TyO8jnvf15Y8WVIBynuuKDc8"
    },
    "kernelspec": {
      "name": "python3",
      "display_name": "Python 3"
    },
    "language_info": {
      "name": "python"
    }
  },
  "cells": [
    {
      "cell_type": "markdown",
      "source": [
        "Системы линейных уравнений. Часть 1"
      ],
      "metadata": {
        "id": "NPe2JZ5nXESH"
      }
    },
    {
      "cell_type": "markdown",
      "source": [
        "__1.__ Решить систему уравнений методом Гаусса:\n",
        "\n",
        "$$\\begin{cases}\n",
        "x_{1}+x_{2}-x_{3}-2x_{4}=0, \\\\\n",
        "2x_{1}+x_{2}-x_{3}+x_{4}=-2, \\\\\n",
        "x_{1}+x_{2}-3x_{3}+x_{4}=4.\n",
        "\\end{cases}$$"
      ],
      "metadata": {
        "id": "KXbxslubXG70"
      }
    },
    {
      "cell_type": "markdown",
      "source": [
        "$$\\begin{pmatrix}\n",
        "\\left.\\begin{matrix}\n",
        "1 & 1 & -1 & -2 \\\\ \n",
        "2 & 1 & -1 & 1 \\\\ \n",
        "1 & 1 & -3 & 1\n",
        "\\end{matrix}\\right|\n",
        "\\begin{matrix}\n",
        "0\\\\ \n",
        "-2\\\\\n",
        "4\n",
        "\\end{matrix}\n",
        "\\end{pmatrix}.$$"
      ],
      "metadata": {
        "id": "JMdi8ld_XJou"
      }
    },
    {
      "cell_type": "markdown",
      "source": [
        "$$\\begin{pmatrix}\n",
        "\\left.\\begin{matrix}\n",
        "1 & 1 & -1 & -2 \\\\ \n",
        "0 & -1 & 1 & 5 \\\\ \n",
        "0 & 0 & -2 & 3\n",
        "\\end{matrix}\\right|\n",
        "\\begin{matrix}\n",
        "0\\\\ \n",
        "-2\\\\\n",
        "4\n",
        "\\end{matrix}\n",
        "\\end{pmatrix}.$$"
      ],
      "metadata": {
        "id": "1x76nObcX03R"
      }
    },
    {
      "cell_type": "markdown",
      "source": [
        "$$\\begin{cases}\n",
        "x_{1}+x_{2}-x_{3}-2x_{4}=0, \\\\\n",
        "-x_{2}+x_{3}+5x_{4}=-2, \\\\\n",
        "-2x_{3}+3x_{4}=4.\n",
        "\\end{cases}$$"
      ],
      "metadata": {
        "id": "yPolkD9oYJWG"
      }
    },
    {
      "cell_type": "markdown",
      "source": [
        "$$\\begin{cases}\n",
        "x_{1}=-2-3x_{4}, \\\\\n",
        "x_{2}=6.5x_{4}, \\\\\n",
        "x_{3}=2-1.5x_{4}.\n",
        "\\end{cases}$$"
      ],
      "metadata": {
        "id": "4Saxqo2MYukW"
      }
    },
    {
      "cell_type": "markdown",
      "source": [
        "__2.__ Проверить на совместность и выяснить, сколько решений будет иметь система линейных уравнений:\n",
        "\n",
        "   а) $\\begin{cases}\n",
        "3x_{1}-x_{2}+x_{3}=4, \\\\\n",
        "2x_{1}-5x_{2}-3x_{3}=-17, \\\\\n",
        "x_{1}+x_{2}-x_{3}=0;\n",
        "\\end{cases}$\n",
        "    \n",
        "   б) $\\begin{cases}\n",
        "2x_{1}-4x_{2}+6x_{3}=1, \\\\\n",
        "x_{1}-2x_{2}+3x_{3}=-2, \\\\\n",
        "3x_{1}-6x_{2}+9x_{3}=5;\n",
        "\\end{cases}$\n",
        "    \n",
        "   в) $\\begin{cases}\n",
        "x_{1}+2x_{2}+5x_{3}=4, \\\\\n",
        "3x_{1}+x_{2}-8x_{3}=-2. \n",
        "\\end{cases}$"
      ],
      "metadata": {
        "id": "qTbA-oFwZQZZ"
      }
    },
    {
      "cell_type": "markdown",
      "source": [
        "а)"
      ],
      "metadata": {
        "id": "h7xB_Ny2biJe"
      }
    },
    {
      "cell_type": "code",
      "execution_count": 6,
      "metadata": {
        "id": "nToselMdW03B"
      },
      "outputs": [],
      "source": [
        "import numpy as np"
      ]
    },
    {
      "cell_type": "code",
      "source": [
        "A = np.array([[3, -1, 1],[2, -5, -3], [1, 1, -1]])\n",
        "B = np.array([[3, -1, 1, 4],[2, -5, -3, -17], [1, 1, -1, 0]])"
      ],
      "metadata": {
        "id": "lPz9fYuvafQF"
      },
      "execution_count": 9,
      "outputs": []
    },
    {
      "cell_type": "code",
      "source": [
        "print(linalg.matrix_rank(A))\n",
        "print(linalg.matrix_rank(B))"
      ],
      "metadata": {
        "colab": {
          "base_uri": "https://localhost:8080/"
        },
        "id": "1OUTpPhlavwg",
        "outputId": "fb47dea0-9fe9-44d1-bc1b-3cfa541bf682"
      },
      "execution_count": 10,
      "outputs": [
        {
          "output_type": "stream",
          "name": "stdout",
          "text": [
            "3\n",
            "3\n"
          ]
        }
      ]
    },
    {
      "cell_type": "markdown",
      "source": [
        "Ранг матрицы равен рангу расширенной матрицы, и равен кол-ву неизвестных -> Система совместна и имеет единственное решение"
      ],
      "metadata": {
        "id": "2Z7CU7GZbHmE"
      }
    },
    {
      "cell_type": "markdown",
      "source": [
        "б) Векторы коэффициентов линейно зависимы и лежат на одной прямой, на которой не лежит вектор свободных членов -> Система не совместна"
      ],
      "metadata": {
        "id": "cn6nLI4vbjLC"
      }
    },
    {
      "cell_type": "markdown",
      "source": [
        "в) "
      ],
      "metadata": {
        "id": "kLgqH_DIb4EO"
      }
    },
    {
      "cell_type": "code",
      "source": [
        "A = np.array([[1, 2, 5],[3, 1, -8]])\n",
        "B = np.array([[1, 2, 5, 4],[3, 1, -8, -2]])"
      ],
      "metadata": {
        "id": "42OUXYZtaytK"
      },
      "execution_count": 12,
      "outputs": []
    },
    {
      "cell_type": "code",
      "source": [
        "print(linalg.matrix_rank(A))\n",
        "print(linalg.matrix_rank(B))"
      ],
      "metadata": {
        "colab": {
          "base_uri": "https://localhost:8080/"
        },
        "id": "0LVSESCgcTGi",
        "outputId": "2880523b-e697-4524-fdf1-51ab98934c88"
      },
      "execution_count": 13,
      "outputs": [
        {
          "output_type": "stream",
          "name": "stdout",
          "text": [
            "2\n",
            "2\n"
          ]
        }
      ]
    },
    {
      "cell_type": "markdown",
      "source": [
        "Ранг матрицы равен рангу расширенной матрицы, но меньше числа неизвестных -> Система совместна и имеет бесконечное множество решений."
      ],
      "metadata": {
        "id": "16SQqKhpcYjH"
      }
    },
    {
      "cell_type": "markdown",
      "source": [
        "__3.__ Проверить на совместность и выяснить, сколько решений будет иметь система линейных уравнений, заданная расширенной матрицей\n",
        "\n",
        "$$\\tilde{A}=\\begin{pmatrix}\n",
        "\\left.\\begin{matrix}\n",
        "1 & 3 & -2 & 4\\\\ \n",
        "0 & 5 & 0 & 1\\\\ \n",
        "0 & 0 & 3 & 0\\\\ \n",
        "0 & 0 & 0 & 2\n",
        "\\end{matrix}\\right|\n",
        "\\begin{matrix}\n",
        "3\\\\ \n",
        "2\\\\\n",
        "4\\\\\n",
        "1\n",
        "\\end{matrix}\n",
        "\\end{pmatrix}.$$"
      ],
      "metadata": {
        "id": "3dCC1oH0cijW"
      }
    },
    {
      "cell_type": "code",
      "source": [
        "A = np.array([[1, 3, -2, 4],[0, 5, 0, 1], [0, 0, 3, 0], [0, 0, 0, 2]])\n",
        "B = np.array([[1, 3, -2, 4, 3],[0, 5, 0, 1, 2], [0, 0, 3, 0, 4], [0, 0, 0, 2, 1]])"
      ],
      "metadata": {
        "id": "klSwdhBWcpeW"
      },
      "execution_count": 14,
      "outputs": []
    },
    {
      "cell_type": "code",
      "source": [
        "print(linalg.matrix_rank(A))\n",
        "print(linalg.matrix_rank(B))"
      ],
      "metadata": {
        "colab": {
          "base_uri": "https://localhost:8080/"
        },
        "id": "VNHdecBGc-qP",
        "outputId": "41a59b4c-0314-4433-b6c7-e094b2dc44b0"
      },
      "execution_count": 15,
      "outputs": [
        {
          "output_type": "stream",
          "name": "stdout",
          "text": [
            "4\n",
            "4\n"
          ]
        }
      ]
    },
    {
      "cell_type": "markdown",
      "source": [
        "Ранг матрицы равен рангу расширенной матрицы, и равен кол-ву неизвестных -> Система совместна и имеет единственное решение"
      ],
      "metadata": {
        "id": "dxu3ZtGadDaL"
      }
    },
    {
      "cell_type": "markdown",
      "source": [
        "__4.__ Дана система линейных уравнений, заданная расширенной матрицей\n",
        "\n",
        "$$\\tilde{A}=\\begin{pmatrix}\n",
        "\\left.\\begin{matrix}\n",
        "1 & 2 & 3\\\\ \n",
        "4 & 5 & 6\\\\ \n",
        "7 & 8 & 9\n",
        "\\end{matrix}\\right|\n",
        "\\begin{matrix}\n",
        "a\\\\ \n",
        "b\\\\\n",
        "c\n",
        "\\end{matrix}\n",
        "\\end{pmatrix}.$$\n",
        "\n",
        "Найти соотношение между параметрами $a$, $b$ и $c$, при которых система является несовместной."
      ],
      "metadata": {
        "id": "7re6sL8Qcnk-"
      }
    },
    {
      "cell_type": "markdown",
      "source": [
        "Вычтем из второй строки первую, умноженную на 4 и из третьей строки первую, умноженную на 7:\n",
        "$$\\begin{pmatrix}\n",
        "\\left.\\begin{matrix}\n",
        "1 & 2 & 3 \\\\ \n",
        "0 & -3 & 6 \\\\ \n",
        "0 & -6 & -12\n",
        "\\end{matrix}\\right|\n",
        "\\begin{matrix}\n",
        "a\\\\ \n",
        "b-4a\\\\\n",
        "c-7a\n",
        "\\end{matrix}\n",
        "\\end{pmatrix}.$$"
      ],
      "metadata": {
        "id": "aBBcCFSJeBjU"
      }
    },
    {
      "cell_type": "markdown",
      "source": [
        "Из третьей вычтем вторую умноженную на 2\n",
        "$$\\begin{pmatrix}\n",
        "\\left.\\begin{matrix}\n",
        "1 & 2 & 3 \\\\ \n",
        "0 & -3 & 6 \\\\ \n",
        "0 & 0 & 0\n",
        "\\end{matrix}\\right|\n",
        "\\begin{matrix}\n",
        "a\\\\ \n",
        "b-4a\\\\\n",
        "c+a-2b\n",
        "\\end{matrix}\n",
        "\\end{pmatrix}.$$"
      ],
      "metadata": {
        "id": "f6KNo9yaegPb"
      }
    },
    {
      "cell_type": "markdown",
      "source": [
        "Система будет несовместной когда c+a-2b не равно 0"
      ],
      "metadata": {
        "id": "UfC-qBhnezFS"
      }
    },
    {
      "cell_type": "markdown",
      "source": [
        "Системы линейных уравнений. Часть 2"
      ],
      "metadata": {
        "id": "oJzXoVEbe_FW"
      }
    },
    {
      "cell_type": "markdown",
      "source": [
        "__1.__ Решить систему уравнений методом Крамера:\n",
        "\n",
        "   а) $\\begin{cases}\n",
        "x_{1}-2x_{2}=1 \\\\\n",
        "3x_{1}-4x_{2}=7\n",
        "\\end{cases}$\n",
        "    \n",
        "   б) $\\begin{cases}\n",
        "2x_{1}-x_{2}+5x_{3}=10 \\\\\n",
        "x_{1}+x_{2}-3x_{3}=-2 \\\\\n",
        "2x_{1}+4x_{2}+x_{3}=1\n",
        "\\end{cases}$"
      ],
      "metadata": {
        "id": "1ihEplOxfHjU"
      }
    },
    {
      "cell_type": "markdown",
      "source": [
        "а)\n",
        "$$A=\\begin{vmatrix}\n",
        "1 & -2 \\\\\n",
        "3 & -4 \n",
        "\\end{vmatrix}=2$$\n",
        "\n",
        "\n",
        "$$A_{1}=\\begin{vmatrix}\n",
        "1 & -2 \\\\\n",
        "7 & -4 \n",
        "\\end{vmatrix}=10$$\n",
        "\n",
        "\n",
        "$$A_{2}=\\begin{vmatrix}\n",
        "1 & 1 \\\\\n",
        "3 & 7 \n",
        "\\end{vmatrix}=4$$"
      ],
      "metadata": {
        "id": "iDVXT-kcfgZk"
      }
    },
    {
      "cell_type": "markdown",
      "source": [
        "$$x_{1} = \\frac{A_{1}}{A} = \\frac{10}{2}=5,$$\n",
        "\n",
        "$$x_{1} = \\frac{A_{2}}{A} = \\frac{4}{2}=2$$"
      ],
      "metadata": {
        "id": "zbt4f6IDgLFo"
      }
    },
    {
      "cell_type": "markdown",
      "source": [
        "б)\n",
        "$$A=\\begin{vmatrix}\n",
        "2 & -1 & 5\\\\ \n",
        "1 & 1 & -3\\\\ \n",
        "2 & 4 & 1\n",
        "\\end{vmatrix}=43$$"
      ],
      "metadata": {
        "id": "pV431n9-gj6u"
      }
    },
    {
      "cell_type": "code",
      "source": [
        "A = np.array([[2, -1, 5], [1, 1, -3], [2, 4, 1]])\n",
        "np.linalg.det(A)"
      ],
      "metadata": {
        "colab": {
          "base_uri": "https://localhost:8080/"
        },
        "id": "lMynBiRwcXj0",
        "outputId": "eecb4bc4-4cba-4d12-e147-e9875053fd47"
      },
      "execution_count": 16,
      "outputs": [
        {
          "output_type": "execute_result",
          "data": {
            "text/plain": [
              "42.99999999999998"
            ]
          },
          "metadata": {},
          "execution_count": 16
        }
      ]
    },
    {
      "cell_type": "markdown",
      "source": [
        "$$A_{1}=\\begin{vmatrix}\n",
        "10 & -1 & 5\\\\ \n",
        "-2 & 1 & -3\\\\ \n",
        "1 & 4 & 1\n",
        "\\end{vmatrix}=86$$"
      ],
      "metadata": {
        "id": "zwLTWy9MhNtB"
      }
    },
    {
      "cell_type": "code",
      "source": [
        "A_1 = np.array([[10, -1, 5], [-2, 1, -3], [1, 4, 1]])\n",
        "np.linalg.det(A_1)"
      ],
      "metadata": {
        "colab": {
          "base_uri": "https://localhost:8080/"
        },
        "id": "jUcIRaDuhCAS",
        "outputId": "12153ade-ea31-4af6-dd65-941a78a4ba5f"
      },
      "execution_count": 18,
      "outputs": [
        {
          "output_type": "execute_result",
          "data": {
            "text/plain": [
              "86.00000000000004"
            ]
          },
          "metadata": {},
          "execution_count": 18
        }
      ]
    },
    {
      "cell_type": "markdown",
      "source": [
        "$$A_{2}=\\begin{vmatrix}\n",
        "2 & 10 & 5\\\\ \n",
        "1 & -2 & -3\\\\ \n",
        "2 & 1 & 1\n",
        "\\end{vmatrix}=-43$$"
      ],
      "metadata": {
        "id": "Crf-soNAhjQG"
      }
    },
    {
      "cell_type": "code",
      "source": [
        "A_2 = np.array([[2, 10, 5], [1, -2, -3], [2, 1, 1]])\n",
        "np.linalg.det(A_2)"
      ],
      "metadata": {
        "colab": {
          "base_uri": "https://localhost:8080/"
        },
        "id": "xVYIUp0qhS0S",
        "outputId": "abbbd289-7faf-4fa3-fe54-88e55fb5bc52"
      },
      "execution_count": 19,
      "outputs": [
        {
          "output_type": "execute_result",
          "data": {
            "text/plain": [
              "-43.000000000000014"
            ]
          },
          "metadata": {},
          "execution_count": 19
        }
      ]
    },
    {
      "cell_type": "markdown",
      "source": [
        "$$A_{2}=\\begin{vmatrix}\n",
        "2 & -1 & 10\\\\ \n",
        "1 & 1 & -2\\\\ \n",
        "2 & 4 & 1\n",
        "\\end{vmatrix}=43$$"
      ],
      "metadata": {
        "id": "fprEKaxnh16t"
      }
    },
    {
      "cell_type": "code",
      "source": [
        "A_3 = np.array([[2, -1, 10], [1, 1, -2], [2, 4, 1]])\n",
        "np.linalg.det(A_3)"
      ],
      "metadata": {
        "colab": {
          "base_uri": "https://localhost:8080/"
        },
        "id": "HOqRsLW7huct",
        "outputId": "2f388e8a-54ff-4dac-9ce9-842b0713a59d"
      },
      "execution_count": 20,
      "outputs": [
        {
          "output_type": "execute_result",
          "data": {
            "text/plain": [
              "42.99999999999998"
            ]
          },
          "metadata": {},
          "execution_count": 20
        }
      ]
    },
    {
      "cell_type": "markdown",
      "source": [
        "$$x_{1} = \\frac{A_{1}}{A} = \\frac{86}{43}=2,$$\n",
        "\n",
        "$$x_{2} = \\frac{A_{2}}{A} = \\frac{-43}{43}=-1,$$\n",
        "\n",
        "$$x_{3} = \\frac{A_{3}}{A} = \\frac{43}{43}=1.$$"
      ],
      "metadata": {
        "id": "Oj4mr5huiR0_"
      }
    },
    {
      "cell_type": "markdown",
      "source": [
        "__2.__ Найти $L$-матрицу $LU$-разложения для матрицы коэффициентов:\n",
        "\n",
        "   а)$$\\begin{pmatrix}\n",
        "1 & 2 & 4 \\\\ \n",
        "2 & 9 & 12 \\\\ \n",
        "3 & 26 & 30\n",
        "\\end{pmatrix}$$\n",
        "    \n",
        "   б)$$\\begin{pmatrix}\n",
        "1 & 1 & 2 & 4\\\\ \n",
        "2 & 5 & 8 & 9\\\\ \n",
        "3 & 18 & 29 & 18\\\\\n",
        "4 & 22 & 53 & 33\n",
        "\\end{pmatrix}$$"
      ],
      "metadata": {
        "id": "ZpG_q23IjCAJ"
      }
    },
    {
      "cell_type": "markdown",
      "source": [
        "а)$$\\begin{pmatrix}\n",
        "1 & 2 & 4 \\\\ \n",
        "2 & 9 & 12 \\\\ \n",
        "3 & 26 & 30\n",
        "\\end{pmatrix} ->\n",
        "\\begin{pmatrix}\n",
        "1 & 2 & 4 \\\\ \n",
        "0 & 5 & 4 \\\\ \n",
        "0 & 20 & 18\n",
        "\\end{pmatrix} -> \n",
        "\\begin{pmatrix}\n",
        "1 & 2 & 4 \\\\ \n",
        "0 & 5 & 4 \\\\ \n",
        "0 & 0 & 2\n",
        "\\end{pmatrix}$$"
      ],
      "metadata": {
        "id": "WSVrUHDGjYJ7"
      }
    },
    {
      "cell_type": "markdown",
      "source": [
        "$$L=\\begin{pmatrix}\n",
        "1 & 0 & 0 \\\\ \n",
        "2 & 1 & 0 \\\\ \n",
        "3 & 4 & 1\n",
        "\\end{pmatrix}$$"
      ],
      "metadata": {
        "id": "PbxrBE8sj9FJ"
      }
    },
    {
      "cell_type": "markdown",
      "source": [
        "   б)$$\\begin{pmatrix}\n",
        "1 & 1 & 2 & 4\\\\ \n",
        "2 & 5 & 8 & 9\\\\ \n",
        "3 & 18 & 29 & 18\\\\\n",
        "4 & 22 & 53 & 33\n",
        "\\end{pmatrix} -> \n",
        "\\begin{pmatrix}\n",
        "1 & 1 & 2 & 4\\\\ \n",
        "0 & 3 & 4 & 1\\\\ \n",
        "0 & 15 & 23 & 6\\\\\n",
        "0 & 18 & 45 & 17\n",
        "\\end{pmatrix} ->\n",
        "\\begin{pmatrix}\n",
        "1 & 1 & 2 & 4\\\\ \n",
        "0 & 3 & 4 & 1\\\\ \n",
        "0 & 0 & 3 & 1\\\\\n",
        "0 & 0 & 21 & 11\n",
        "\\end{pmatrix} ->\n",
        "\\begin{pmatrix}\n",
        "1 & 1 & 2 & 4\\\\ \n",
        "0 & 3 & 4 & 1\\\\ \n",
        "0 & 0 & 3 & 1\\\\\n",
        "0 & 0 & 0 & 4\n",
        "\\end{pmatrix}$$"
      ],
      "metadata": {
        "id": "njw-TOS2mgRu"
      }
    },
    {
      "cell_type": "markdown",
      "source": [
        "$$L=\\begin{pmatrix}\n",
        "1 & 0 & 0 & 0\\\\ \n",
        "2 & 1 & 0 & 0\\\\ \n",
        "3 & 5 & 1 & 0\\\\\n",
        "4 & 6 & 7 & 1\n",
        "\\end{pmatrix}$$"
      ],
      "metadata": {
        "id": "_nALU-dlnsEH"
      }
    },
    {
      "cell_type": "markdown",
      "source": [
        "__3.__ Решить систему линейных уравнений методом $LU$-разложения\n",
        "\n",
        "$$\\begin{cases}\n",
        "2x_{1}+x_{2}+3x_{3}=1 \\\\\n",
        "11x_{1}+7x_{2}+5x_{3}=-6 \\\\\n",
        "9x_{1}+8x_{2}+4x_{3}=-5\n",
        "\\end{cases}$$"
      ],
      "metadata": {
        "id": "RPiBxeQ1oJ34"
      }
    },
    {
      "cell_type": "markdown",
      "source": [
        "$$\\begin{pmatrix}\n",
        "2 & 1 & 3 \\\\ \n",
        "11 & 7 & 5 \\\\ \n",
        "9 & 8 & 4\n",
        "\\end{pmatrix} -> \n",
        "\\begin{pmatrix}\n",
        "2 & 1 & 3 \\\\ \n",
        "0 & 1.5 & -11.5 \\\\ \n",
        "0 & 3.5 & -9.5\n",
        "\\end{pmatrix} ->\n",
        "\\begin{pmatrix}\n",
        "2 & 1 & 3 \\\\ \n",
        "0 & 1.5 & -11.5 \\\\ \n",
        "0 & 0 & 52/3\n",
        "\\end{pmatrix}$$"
      ],
      "metadata": {
        "id": "ImbGPVsHoN5E"
      }
    },
    {
      "cell_type": "markdown",
      "source": [
        "$$L=\\begin{pmatrix}\n",
        "1 & 0 & 0 \\\\ \n",
        "5.5 & 1 & 0 \\\\ \n",
        "4.5 & 7/3 & 1\n",
        "\\end{pmatrix}$$"
      ],
      "metadata": {
        "id": "jp2l2qNeo8Kt"
      }
    },
    {
      "cell_type": "markdown",
      "source": [
        "$$Ly=b:$$\n",
        "\n",
        "$$\\begin{cases}\n",
        "y_{1}=1, \\\\\n",
        "5.5y_{1}+y_{2}=-6, \\\\\n",
        "4.5y_{1}+7/3y_{2}+y_{3}=-5.\n",
        "\\end{cases}$$\n",
        "\n",
        "$$y_{1}=1,$$\n",
        "$$y_{2}=-11.5,$$\n",
        "$$y_{3}=52/3.$$\n",
        "\n",
        "И затем систему\n",
        "\n",
        "$$Ux=y:$$\n",
        "\n",
        "$$\\begin{cases}\n",
        "2x_{1}+x_{2}+3x_{3}=1, \\\\\n",
        "1.5x_{2}-11.5x_{3}=-11.5, \\\\\n",
        "52/3x_{3}=52/3.\n",
        "\\end{cases}$$\n",
        "\n",
        "$$x_{3}=1,$$\n",
        "$$x_{2}=0,$$\n",
        "$$x_{1}=-1.$$"
      ],
      "metadata": {
        "id": "cuEQoSpcpj7P"
      }
    },
    {
      "cell_type": "markdown",
      "source": [
        "__4.__ Решить систему линейных уравнений методом Холецкого\n",
        "\n",
        "$$\\begin{cases}\n",
        "81x_{1}-45x_{2}+45x_{3}=531 \\\\\n",
        "-45x_{1}+50x_{2}-15x_{3}=-460 \\\\\n",
        "45x_{1}-15x_{2}+38x_{3}=193\n",
        "\\end{cases}$$"
      ],
      "metadata": {
        "id": "T993aGQEqZKu"
      }
    },
    {
      "cell_type": "markdown",
      "source": [
        "Произведем разложение на $LL^{T}$:\n",
        "\n",
        "$$l_{11}=\\sqrt{a_{11}}=\\sqrt{81}=9,$$\n",
        "$$l_{21}=\\frac{a_{21}}{l_{11}}=\\frac{-45}{9}=-5,$$\n",
        "$$l_{31}=\\frac{a_{31}}{l_{11}}=\\frac{45}{9}=5,$$\n",
        "\n",
        "$$l_{22}=\\sqrt{a_{22}-l_{21}^{2}}=\\sqrt{50 - 25}=5,$$\n",
        "$$l_{32}=\\frac{1}{l_{22}}\\left ( a_{32}-l_{21}l_{31} \\right)=\\frac{1}{5}\\left ( -15 + 5*5\\right )=2,$$\n",
        "\n",
        "$$l_{33}=\\sqrt{a_{33}-l_{31}^{2}-l_{32}^{2}}=\\sqrt{38-25-4}=3.$$"
      ],
      "metadata": {
        "id": "JAgt88Shqh4O"
      }
    },
    {
      "cell_type": "markdown",
      "source": [
        "Получили матрицу \n",
        "\n",
        "$$L = \\begin{pmatrix}\n",
        "9 & 0 & 0 \\\\ \n",
        "-5 & 5 & 0 \\\\ \n",
        "5 & 2 & 3\n",
        "\\end{pmatrix}, \n",
        "\\; \\; \n",
        "L^{T} = \\begin{pmatrix}\n",
        "9 & -5 & 5 \\\\ \n",
        "0 & 5 & 2 \\\\ \n",
        "0 & 0 & 3\n",
        "\\end{pmatrix}.$$"
      ],
      "metadata": {
        "id": "TVuwjDLssRC7"
      }
    },
    {
      "cell_type": "markdown",
      "source": [
        "Решим систему $Ly=b:$\n",
        "\n",
        "$$\\begin{cases}\n",
        "9y_{1}=531, \\\\\n",
        "-5y_{1}+5y_{2}=-460, \\\\\n",
        "5y_{1}+2y_{2}+3y_{3}=193.\n",
        "\\end{cases}$$\n",
        "\n",
        "$$y_{1} = 59,$$\n",
        "\n",
        "$$y_{2}=-33,$$\n",
        "\n",
        "$$y_{3}=-12.$$"
      ],
      "metadata": {
        "id": "ZfQME1MAss9q"
      }
    },
    {
      "cell_type": "markdown",
      "source": [
        "И решим систему $L^{T}x=y:$\n",
        "\n",
        "$$\\begin{cases}\n",
        "9x_{1}-5x_{2}+5x_{3}=59, \\\\\n",
        "5x_{2}+2x_{3}=-33, \\\\\n",
        "3x_{3}=-12.\n",
        "\\end{cases}$$\n",
        "\n",
        "$$x_{3}=-4,$$\n",
        "\n",
        "$$x_{2}=-5,$$\n",
        "\n",
        "$$x_{1}=6.$$"
      ],
      "metadata": {
        "id": "AW9OsvjbtcDO"
      }
    },
    {
      "cell_type": "code",
      "source": [
        ""
      ],
      "metadata": {
        "id": "RS1ik1mOoIWf"
      },
      "execution_count": null,
      "outputs": []
    }
  ]
}