{
  "nbformat": 4,
  "nbformat_minor": 0,
  "metadata": {
    "colab": {
      "name": "Домашнее задание 3.ipynb",
      "provenance": [],
      "collapsed_sections": [],
      "authorship_tag": "ABX9TyORNz2NYl8CDmkJHy0NAMus"
    },
    "kernelspec": {
      "name": "python3",
      "display_name": "Python 3"
    },
    "language_info": {
      "name": "python"
    }
  },
  "cells": [
    {
      "cell_type": "markdown",
      "source": [
        "__1.__ Найти собственные векторы и собственные значения для линейного оператора, заданного матрицей\n",
        "\n",
        "$$A=\\begin{pmatrix}\n",
        "-1 & -6\\\\ \n",
        "2 & 6\n",
        "\\end{pmatrix}.$$"
      ],
      "metadata": {
        "id": "UtkQWZgCzR3E"
      }
    },
    {
      "cell_type": "markdown",
      "source": [
        "$$\\begin{vmatrix}\n",
        "-1-\\lambda & -6\\\\ \n",
        "2 & 6-\\lambda\n",
        "\\end{vmatrix} = 0,$$\n",
        "\n",
        "$$(-1-\\lambda)(6-\\lambda)+12=0,$$\n",
        "\n",
        "$$\\lambda^{2} - 5\\lambda=-6,$$\n",
        "\n",
        "$$\\lambda{1}=2.$$ \n",
        "$$\\lambda{2}=3.$$"
      ],
      "metadata": {
        "id": "_pKUADpVzh3N"
      }
    },
    {
      "cell_type": "markdown",
      "source": [
        "Для \n",
        "$$\\lambda{1}=2.$$\n",
        "\n",
        "$$\\begin{pmatrix}\n",
        "-1 & 6\\\\ \n",
        "2 & 6\n",
        "\\end{pmatrix}\n",
        "\\begin{pmatrix}\n",
        "x_{1}\\\\ \n",
        "x_{2}\n",
        "\\end{pmatrix}=\n",
        "\\lambda\n",
        "\\begin{pmatrix}\n",
        "x_{1}\\\\ \n",
        "x_{2}\n",
        "\\end{pmatrix}.\n",
        "$$"
      ],
      "metadata": {
        "id": "YBlAbwC71EDo"
      }
    },
    {
      "cell_type": "markdown",
      "source": [
        "Получим\n",
        "\n",
        "$$\\begin{cases}\n",
        "-x_{1}-6x_{2}= 2x_{1}, \\\\\n",
        "2x_{1}+6x_{2}= 2x_{2}.\n",
        "\\end{cases}$$ \n",
        "\n",
        "$$\\begin{cases}\n",
        "x_{1}=-2, \\\\\n",
        "x_{2} = 1.\n",
        "\\end{cases}$$"
      ],
      "metadata": {
        "id": "d1qLJtuO1VQ6"
      }
    },
    {
      "cell_type": "markdown",
      "source": [
        "Для \n",
        "$$\\lambda{1}=3.$$\n",
        "\n",
        "$$\\begin{pmatrix}\n",
        "-1 & 6\\\\ \n",
        "2 & 6\n",
        "\\end{pmatrix}\n",
        "\\begin{pmatrix}\n",
        "x_{1}\\\\ \n",
        "x_{2}\n",
        "\\end{pmatrix}=\n",
        "\\lambda\n",
        "\\begin{pmatrix}\n",
        "x_{1}\\\\ \n",
        "x_{2}\n",
        "\\end{pmatrix}.\n",
        "$$"
      ],
      "metadata": {
        "id": "v-ghRSXL1vFW"
      }
    },
    {
      "cell_type": "markdown",
      "source": [
        "Получим\n",
        "\n",
        "$$\\begin{cases}\n",
        "-x_{1}-6x_{2}= 3x_{1}, \\\\\n",
        "2x_{1}+6x_{2}= 3x_{2}.\n",
        "\\end{cases}$$ \n",
        "\n",
        "\n",
        "$$\\begin{cases}\n",
        "x_{1}=3, \\\\\n",
        "x_{2} = -2.\n",
        "\\end{cases}$$"
      ],
      "metadata": {
        "id": "g4VYazxE1ygs"
      }
    },
    {
      "cell_type": "markdown",
      "source": [
        "Ответ: $$\\lambda{1}=2, (-2, 1)$$  \n",
        "$$\\lambda{2}=3, (3, -2)$$"
      ],
      "metadata": {
        "id": "MAlKMjQ02V0y"
      }
    },
    {
      "cell_type": "markdown",
      "source": [
        "__2.__ Дан оператор поворота на 180 градусов, задаваемый матрицей \n",
        "\n",
        "$$A=\\begin{pmatrix}\n",
        "-1 & 0\\\\ \n",
        "0 & -1\n",
        "\\end{pmatrix}.$$\n",
        "\n",
        "Показать, что __любой__ вектор является для него собственным."
      ],
      "metadata": {
        "id": "6UywOn2t2kUD"
      }
    },
    {
      "cell_type": "markdown",
      "source": [
        "$$\\begin{pmatrix}\n",
        "-1 & 0\\\\ \n",
        "0 & -1\n",
        "\\end{pmatrix}\n",
        "\\begin{pmatrix}\n",
        "x_{1}\\\\ \n",
        "x_{2}\n",
        "\\end{pmatrix}=\n",
        "\\lambda\n",
        "\\begin{pmatrix}\n",
        "x_{1}\\\\ \n",
        "x_{2}\n",
        "\\end{pmatrix}.\n",
        "$$\n",
        "\n",
        "$$\\lambda=-1.$$ "
      ],
      "metadata": {
        "id": "VVn8zOzu4U-B"
      }
    },
    {
      "cell_type": "markdown",
      "source": [
        "$$\\begin{cases}\n",
        "x_{1}=x_{1}, \\\\\n",
        "x_{2} = x_{2}.\n",
        "\\end{cases}$$\n",
        "\n",
        "Верно при любых $$x_{1} и x_{2}.$$"
      ],
      "metadata": {
        "id": "qYX3KFcx4ry9"
      }
    },
    {
      "cell_type": "markdown",
      "source": [
        "__3.__ Пусть линейный оператор задан матрицей\n",
        "\n",
        "$$A=\\begin{pmatrix}\n",
        "1 & 1\\\\ \n",
        "-1 & 3\n",
        "\\end{pmatrix}.$$\n",
        "\n",
        "Установить, является ли вектор $x=(1,1)$ собственным вектором этого линейного оператора."
      ],
      "metadata": {
        "id": "3QDpf7C_5IlG"
      }
    },
    {
      "cell_type": "markdown",
      "source": [
        "$$\\begin{pmatrix}\n",
        "1 & 1\\\\ \n",
        "-1 & 3\n",
        "\\end{pmatrix}\n",
        "\\begin{pmatrix}\n",
        "1\\\\ \n",
        "1\n",
        "\\end{pmatrix}=\n",
        "\\lambda\n",
        "\\begin{pmatrix}\n",
        "x_{1}\\\\ \n",
        "x_{2}\n",
        "\\end{pmatrix}.\n",
        "$$"
      ],
      "metadata": {
        "id": "MCNuSZ-e5NLc"
      }
    },
    {
      "cell_type": "markdown",
      "source": [
        "$$\\begin{cases}\n",
        "1+1= \\lambda x_{1}, \\\\\n",
        "-1+3= \\lambda x_{2}.\n",
        "\\end{cases}$$ \n",
        "\n",
        "$$\\begin{cases}\n",
        "\\lambda = 2, \\\\\n",
        "\\lambda = 2.\n",
        "\\end{cases}$$"
      ],
      "metadata": {
        "id": "iEqpc5az5X9R"
      }
    },
    {
      "cell_type": "markdown",
      "source": [
        "Вектор $x=(1,1)$ является собственным вектором этого линейного оператора."
      ],
      "metadata": {
        "id": "3AVn9hNz5qXI"
      }
    },
    {
      "cell_type": "markdown",
      "source": [
        "**4.** Пусть линейный оператор задан матрицей\n",
        "\n",
        "$$A=\\begin{pmatrix} 0 & 3 & 0\\\\ 3 & 0 & 0\\\\ 0 & 0 & 3 \\end{pmatrix}.$$\n",
        "\n",
        "Установить, является ли вектор $x=(3, -3, -4)$ собственным вектором этого линейного оператора."
      ],
      "metadata": {
        "id": "1PUUTLsH5zIo"
      }
    },
    {
      "cell_type": "markdown",
      "source": [
        "$$\\begin{pmatrix}\n",
        "0 & 3 & 0\\\\ \n",
        "3 & 0 & 0\\\\\n",
        "0 & 0 & 3\n",
        "\\end{pmatrix}\n",
        "\\begin{pmatrix}\n",
        "3\\\\\n",
        "-3\\\\\n",
        "-4\n",
        "\\end{pmatrix}=\n",
        "\\lambda\n",
        "\\begin{pmatrix}\n",
        "3\\\\\n",
        "-3\\\\\n",
        "-4\n",
        "\\end{pmatrix}\n",
        "$$\n",
        "\n",
        "$$\\Rightarrow\n",
        "\\begin{cases}\n",
        "\\lambda=-3\\\\ \n",
        "\\lambda=-3\\\\\n",
        "\\lambda=3\n",
        "\\end{cases}$$"
      ],
      "metadata": {
        "id": "JsDQ6xLf56ko"
      }
    },
    {
      "cell_type": "markdown",
      "source": [
        "Вектор не является собственным для данного оператора."
      ],
      "metadata": {
        "id": "ViliZrQc6PMO"
      }
    },
    {
      "cell_type": "code",
      "execution_count": null,
      "metadata": {
        "id": "IyP6dmjOwmUk"
      },
      "outputs": [],
      "source": [
        ""
      ]
    }
  ]
}