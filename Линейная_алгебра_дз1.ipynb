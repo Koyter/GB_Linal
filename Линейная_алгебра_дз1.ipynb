{
  "nbformat": 4,
  "nbformat_minor": 0,
  "metadata": {
    "colab": {
      "name": "Линейная алгебра дз1.ipynb",
      "provenance": [],
      "collapsed_sections": [],
      "authorship_tag": "ABX9TyM/52jchJF0vlkh3UcHnZ+8"
    },
    "kernelspec": {
      "name": "python3",
      "display_name": "Python 3"
    },
    "language_info": {
      "name": "python"
    }
  },
  "cells": [
    {
      "cell_type": "markdown",
      "source": [
        "Урок 1"
      ],
      "metadata": {
        "id": "w9oXorQ6WCkB"
      }
    },
    {
      "cell_type": "markdown",
      "source": [
        "__1.__ Исследовать на линейную зависимость:\n",
        "\n",
        "$$f_{1}(x)=e^{x}, f_{2}(x)=1, f_{3}(x)=x+1, f_{4}(x)=x-e^{x}.$$"
      ],
      "metadata": {
        "id": "Hfig8O6GKjOd"
      }
    },
    {
      "cell_type": "markdown",
      "source": [
        "Решение:"
      ],
      "metadata": {
        "id": "_yKteWWnKm52"
      }
    },
    {
      "cell_type": "markdown",
      "source": [
        "$$f_{4}(x) = f_{3}(x) - f_{2}(x) - f_{1}(x).$$"
      ],
      "metadata": {
        "id": "0wLUjl33LIG9"
      }
    },
    {
      "cell_type": "markdown",
      "source": [
        "$$x-e^{x} = x + 1 - 1 - e^{x}.$$"
      ],
      "metadata": {
        "id": "NiDULPc1LcKG"
      }
    },
    {
      "cell_type": "markdown",
      "source": [
        "Функции линейно зависимы"
      ],
      "metadata": {
        "id": "kPYwyhk5L2bn"
      }
    },
    {
      "cell_type": "markdown",
      "source": [
        "__2.__ Исследовать на линейную зависимость:\n",
        "$$f_{1}(x)=2, f_{2}(x)=x, f_{3}(x)=x^{2}, f_{4}(x)=(x+1)^{2}$$"
      ],
      "metadata": {
        "id": "f_-usz3nL5k-"
      }
    },
    {
      "cell_type": "markdown",
      "source": [
        "$$f_{4}(x)=(x+1)^{2} = x^{2} + 2x + 1.$$"
      ],
      "metadata": {
        "id": "ltffDmvSMNAi"
      }
    },
    {
      "cell_type": "markdown",
      "source": [
        "$$f_{4}(x) = f_{3}(x) + 2f_{2}(x) + 1/2f_{1}(x).$$"
      ],
      "metadata": {
        "id": "dENRFvwTMYQ4"
      }
    },
    {
      "cell_type": "markdown",
      "source": [
        "Функции линейно зависимы"
      ],
      "metadata": {
        "id": "0uLkAosmMupx"
      }
    },
    {
      "cell_type": "markdown",
      "source": [
        "__3.__ Найти координаты вектора $x = (2, 3, 5)\\in \\mathbb{R}^{3}$ в базисе $b_{1}=(0, 0, 10)$, $b_{2}=(2, 0, 0)$, $b_{3}=(0, 1, 0)$."
      ],
      "metadata": {
        "id": "-NMvWp_EMwby"
      }
    },
    {
      "cell_type": "markdown",
      "source": [
        "x1 = 1, x2 = 3, x3 = 1/2"
      ],
      "metadata": {
        "id": "HLw2KbxwNW83"
      }
    },
    {
      "cell_type": "markdown",
      "source": [
        "$x_{b}=(1, 3, 0.5)$."
      ],
      "metadata": {
        "id": "KT56yFdHNlIm"
      }
    },
    {
      "cell_type": "markdown",
      "source": [
        "##__4.__ Найти координаты вектора $3x^{2}-2x+2\\in\\mathbb{R}^{3}[x]$:\n",
        "\n",
        "а) в базисе $1$, $x$, $x^{2}$;\n",
        "\n",
        "б) в базисе $x^{2}$, $x-1$, $1$."
      ],
      "metadata": {
        "id": "jZbJUM7qN4rx"
      }
    },
    {
      "cell_type": "markdown",
      "source": [
        "a) $3x^{2}-2x+2 = 2*1 - 2 * x + 3*x^{2}$ = (2, -2, 3)"
      ],
      "metadata": {
        "id": "_htDiyVgN6RB"
      }
    },
    {
      "cell_type": "markdown",
      "source": [
        "б) $3x^{2}-2x+2 = 3*x^{2} - 2 * (x - 1) + 0 * 2$ = (3, -2, 0)"
      ],
      "metadata": {
        "id": "p3F-wmX7Otku"
      }
    },
    {
      "cell_type": "markdown",
      "source": [
        "##__5.__ Установить, является ли линейным подпространством:\n",
        "\n",
        "а) совокупность всех векторов трехмерного пространства, у которых по крайней мере одна из первых двух координат равна нулю;\n",
        "    \n",
        "б) все векторы, являющиеся линейными комбинациями данных векторов $\\{u_{1}, u_{2}, \\ldots, u_{n}\\}$."
      ],
      "metadata": {
        "id": "7CN_p2bSQVuN"
      }
    },
    {
      "cell_type": "markdown",
      "source": [
        "a) Вектора имеют вид a = (0, a, b), b = (c, 0, d)"
      ],
      "metadata": {
        "id": "uk0qcxcXR63w"
      }
    },
    {
      "cell_type": "markdown",
      "source": [
        "$$(0, a, b)+(c, 0, d) = (c, a, b+d),$$\n",
        " \n",
        " \n",
        "Полученный вектор не имеет нуля в первых двух координатах. => не является подпространством \n",
        "\n",
        "---\n",
        "\n"
      ],
      "metadata": {
        "id": "daTuk20vTKlJ"
      }
    },
    {
      "cell_type": "markdown",
      "source": [
        "б) Суммы ветрово и умножение векторов на число являются линейными комбинациями $\\{u_{1}, u_{2}, \\ldots, u_{n}\\}$. и равны линейным комбинациям векторов $\\{u_{1}, u_{2}, \\ldots, u_{n}\\}$.. Поэтому по определению являются линейным подпространством"
      ],
      "metadata": {
        "id": "ipHhaYwFUk6k"
      }
    },
    {
      "cell_type": "markdown",
      "source": [
        "Урок 2"
      ],
      "metadata": {
        "id": "T757ZDnrWByU"
      }
    },
    {
      "cell_type": "markdown",
      "source": [
        "__1.__ Найти скалярное произведение векторов $x, y \\in \\mathbb{R}$:<br>\n",
        "а) $x=(0,-3, 6),~y=(-4, 7, 9);$<br>\n",
        "б) $x=(7, -4, 0, 1),~y=(-3, 1, 11, 2).$"
      ],
      "metadata": {
        "id": "TdpaWNkmWGdu"
      }
    },
    {
      "cell_type": "code",
      "source": [
        "import numpy as np"
      ],
      "metadata": {
        "id": "b6FK4KFNOPbO"
      },
      "execution_count": 2,
      "outputs": []
    },
    {
      "cell_type": "code",
      "source": [
        "a = np.array([0,-3,6])\n",
        "b = np.array([-4,7,9])\n",
        "print(f'Скалярное произведение a и b:\\n{np.dot(a, b)}')"
      ],
      "metadata": {
        "colab": {
          "base_uri": "https://localhost:8080/"
        },
        "id": "yCoTqI5kWLYK",
        "outputId": "4eaae39c-4251-4704-94e2-e57065861cd4"
      },
      "execution_count": 5,
      "outputs": [
        {
          "output_type": "stream",
          "name": "stdout",
          "text": [
            "Скалярное произведение a и b:\n",
            "33\n"
          ]
        }
      ]
    },
    {
      "cell_type": "code",
      "source": [
        "a = np.array([7,-4,0,1])\n",
        "b = np.array([-3,1,11,2])\n",
        "print(f'Скалярное произведение a и b:\\n{np.dot(a, b)}')"
      ],
      "metadata": {
        "colab": {
          "base_uri": "https://localhost:8080/"
        },
        "id": "6JULVb_fWM2-",
        "outputId": "d217ee58-0cae-4a4f-bd17-9ed69e14cb6d"
      },
      "execution_count": 6,
      "outputs": [
        {
          "output_type": "stream",
          "name": "stdout",
          "text": [
            "Скалярное произведение a и b:\n",
            "-23\n"
          ]
        }
      ]
    },
    {
      "cell_type": "markdown",
      "source": [
        "__2.__ Найти нормы векторов $(4, 2, 4)$ и $(12, 3, 4)$ и угол между ними."
      ],
      "metadata": {
        "id": "rsSwu7hSWhAh"
      }
    },
    {
      "cell_type": "code",
      "source": [
        "a = np.array([4, 2, 4])\n",
        "b = np.array([12, 3, 4])\n",
        "norm_a = np.linalg.norm(a)\n",
        "norm_b = np.linalg.norm(b)\n",
        "print(norm_a)\n",
        "print(norm_b)\n",
        "cos_phi = np.dot(a, b) / norm_a / norm_b\n",
        "print(cos_phi)"
      ],
      "metadata": {
        "colab": {
          "base_uri": "https://localhost:8080/"
        },
        "id": "xyVFr6XDWOCX",
        "outputId": "34b77810-39b5-48a3-d223-a220fa56d9d4"
      },
      "execution_count": 11,
      "outputs": [
        {
          "output_type": "stream",
          "name": "stdout",
          "text": [
            "6.0\n",
            "13.0\n",
            "0.8974358974358974\n"
          ]
        }
      ]
    },
    {
      "cell_type": "markdown",
      "source": [
        "__3.__ Будет ли линейное пространство евклидовым, если за скалярное произведение принять:<br>\n",
        "а) произведение длин векторов;<br>\n",
        "б) утроенное обычное скалярное произведение векторов?<br>"
      ],
      "metadata": {
        "id": "f3EbB1tKXnQC"
      }
    },
    {
      "cell_type": "markdown",
      "source": [
        "a) 1. (x,y)=(y,x),\n",
        "\n",
        "2. (x+z,y)=(x,y)+(z,y),\n",
        "\n",
        "3. (λx,y)=λ(x,y),\n",
        "\n",
        "4. (x,x)≥0, причем (x,x)=0⇔ x=0.\n",
        "\n",
        "Пространство евклидово."
      ],
      "metadata": {
        "id": "F6rD9nrWXsDj"
      }
    },
    {
      "cell_type": "markdown",
      "source": [
        "б) Умножение не нарушает ни одну из 4 аксиом. => Пространство Евклидово"
      ],
      "metadata": {
        "id": "BDCdTxoKY3jW"
      }
    },
    {
      "cell_type": "markdown",
      "source": [
        "__4.__ Какие из нижеперечисленных векторов образуют ортонормированный базис в линейном пространстве $\\mathbb{R}^{3}$:<br>\n",
        "а) $(1,0,0),(0,0,1);$ <br>\n",
        "б) $(1/\\sqrt{2},-1/\\sqrt{2},0),(1/\\sqrt{2},1/\\sqrt{2},0), (0,0,1);$<br>\n",
        "в) $(1/2, -1/2, 0), (0, 1/2, 1/2), (0,0,1);$<br>\n",
        "г) $(1,0,0),(0,1,0),(0,0,1)?$ \n"
      ],
      "metadata": {
        "id": "Mz4C8JOtZL0v"
      }
    },
    {
      "cell_type": "markdown",
      "source": [
        "Ответ: б, г"
      ],
      "metadata": {
        "id": "uTd0l05OZNEQ"
      }
    },
    {
      "cell_type": "code",
      "source": [
        ""
      ],
      "metadata": {
        "id": "F9WsO_LjZKbu"
      },
      "execution_count": null,
      "outputs": []
    }
  ]
}