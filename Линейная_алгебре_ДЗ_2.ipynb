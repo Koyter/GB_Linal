{
  "nbformat": 4,
  "nbformat_minor": 0,
  "metadata": {
    "colab": {
      "name": "Линейная алгебре ДЗ 2.ipynb",
      "provenance": [],
      "collapsed_sections": [],
      "authorship_tag": "ABX9TyOuC0WcSShnwHwVXP3HD80J"
    },
    "kernelspec": {
      "name": "python3",
      "display_name": "Python 3"
    },
    "language_info": {
      "name": "python"
    }
  },
  "cells": [
    {
      "cell_type": "markdown",
      "source": [
        "Матрицы и матричные операции. Часть 1"
      ],
      "metadata": {
        "id": "U5g0bEpivTD6"
      }
    },
    {
      "cell_type": "markdown",
      "source": [
        "__1.__ Установить, какие произведения матриц $AB$ и $BA$ определены, и найти размерности полученных матриц:\n",
        "\n",
        "   а) $A$ — матрица $4\\times 2$, $B$ — матрица $4\\times 2$;\n",
        "    \n",
        "   б) $A$ — матрица $2\\times 5$, $B$ — матрица $5\\times 3$;\n",
        "    \n",
        "   в) $A$ — матрица $8\\times 3$, $B$ — матрица $3\\times 8$;\n",
        "    \n",
        "   г) $A$ — квадратная матрица $4\\times 4$, $B$ — квадратная матрица $4\\times 4$."
      ],
      "metadata": {
        "id": "9ceSfZXRokv-"
      }
    },
    {
      "cell_type": "markdown",
      "source": [
        "а) Обе неопределены\n",
        "б) АВ 2 х 3, ВА - неопределена\n",
        "в) АВ - 8 х 8, ВА - 3 х 3\n",
        "г) АВ и ВА - 4 х 4 "
      ],
      "metadata": {
        "id": "8ZwTRTPfozp6"
      }
    },
    {
      "cell_type": "markdown",
      "source": [
        "__2.__ Найти сумму и произведение матриц $A=\\begin{pmatrix}\n",
        "1 & -2\\\\ \n",
        "3 & 0\n",
        "\\end{pmatrix}$ и $B=\\begin{pmatrix}\n",
        "4 & -1\\\\ \n",
        "0 & 5\n",
        "\\end{pmatrix}.$"
      ],
      "metadata": {
        "id": "u3ZH2NPnpRBI"
      }
    },
    {
      "cell_type": "code",
      "execution_count": null,
      "metadata": {
        "id": "3UWFKjDcoNW-"
      },
      "outputs": [],
      "source": [
        "import numpy as np"
      ]
    },
    {
      "cell_type": "code",
      "source": [
        "a = np.array([[1, -2], [3, 0]])\n",
        "b = np.array([[4, -1], [0, 5]])\n",
        "\n",
        "print(a + b)"
      ],
      "metadata": {
        "id": "iq9pG6BypYKn",
        "colab": {
          "base_uri": "https://localhost:8080/"
        },
        "outputId": "10f13b40-76e4-477d-ffdb-931c87a4e348"
      },
      "execution_count": null,
      "outputs": [
        {
          "output_type": "stream",
          "name": "stdout",
          "text": [
            "[[ 5 -3]\n",
            " [ 3  5]]\n"
          ]
        }
      ]
    },
    {
      "cell_type": "code",
      "source": [
        "print(np.dot(a,b))\n",
        "print(np.dot(b,a))"
      ],
      "metadata": {
        "id": "J9tzQnxGpi9g",
        "colab": {
          "base_uri": "https://localhost:8080/"
        },
        "outputId": "23e2137b-f2c5-4e58-fade-22a3a270eff7"
      },
      "execution_count": null,
      "outputs": [
        {
          "output_type": "stream",
          "name": "stdout",
          "text": [
            "[[  4 -11]\n",
            " [ 12  -3]]\n",
            "[[ 1 -8]\n",
            " [15  0]]\n"
          ]
        }
      ]
    },
    {
      "cell_type": "markdown",
      "source": [
        "__3.__ Из закономерностей сложения и умножения матриц на число можно сделать вывод, что матрицы одного размера образуют линейное пространство. Вычислить линейную комбинацию $3A-2B+4C$ для матриц $A=\\begin{pmatrix}\n",
        "1 & 7\\\\ \n",
        "3 & -6\n",
        "\\end{pmatrix}$, $B=\\begin{pmatrix}\n",
        "0 & 5\\\\ \n",
        "2 & -1\n",
        "\\end{pmatrix}$, $C=\\begin{pmatrix}\n",
        "2 & -4\\\\ \n",
        "1 & 1\n",
        "\\end{pmatrix}.$\n",
        "    "
      ],
      "metadata": {
        "id": "1MjJ50exr4Hq"
      }
    },
    {
      "cell_type": "code",
      "source": [
        "a = np.array([[1, 7], [3, -6]])\n",
        "b = np.array([[0, 5], [2, -1]])\n",
        "c = np.array([[2, -4], [1, 1]])\n",
        "print(3*a - 2* b+ 4*c)"
      ],
      "metadata": {
        "id": "ZYevVlH-rOoq",
        "colab": {
          "base_uri": "https://localhost:8080/"
        },
        "outputId": "97200012-4924-4cb7-9c5e-81eb8a5844be"
      },
      "execution_count": null,
      "outputs": [
        {
          "output_type": "stream",
          "name": "stdout",
          "text": [
            "[[ 11  -5]\n",
            " [  9 -12]]\n"
          ]
        }
      ]
    },
    {
      "cell_type": "markdown",
      "source": [
        "__4.__ Дана матрица $A=\\begin{pmatrix}\n",
        "4 & 1\\\\ \n",
        "5 & -2\\\\ \n",
        "2 & 3\n",
        "\\end{pmatrix}$.\n",
        "Вычислить $AA^{T}$ и $A^{T}A$."
      ],
      "metadata": {
        "id": "-pWNhi3IsChU"
      }
    },
    {
      "cell_type": "code",
      "source": [
        "a = np.array([[4, 1], [5, -2], [2, 3]])\n",
        "a_t = a.T\n",
        "print(np.dot(a, a_t))"
      ],
      "metadata": {
        "id": "VgDG_LQ_sFw3",
        "colab": {
          "base_uri": "https://localhost:8080/"
        },
        "outputId": "32ded877-54fd-4d70-cde6-ffc98224029f"
      },
      "execution_count": null,
      "outputs": [
        {
          "output_type": "stream",
          "name": "stdout",
          "text": [
            "[[17 18 11]\n",
            " [18 29  4]\n",
            " [11  4 13]]\n"
          ]
        }
      ]
    },
    {
      "cell_type": "code",
      "source": [
        "print(np.dot(a_t, a))"
      ],
      "metadata": {
        "id": "Ub6Y3XZzshIC",
        "colab": {
          "base_uri": "https://localhost:8080/"
        },
        "outputId": "157d706b-ec06-4e23-eac4-ae05d1646a12"
      },
      "execution_count": null,
      "outputs": [
        {
          "output_type": "stream",
          "name": "stdout",
          "text": [
            "[[45  0]\n",
            " [ 0 14]]\n"
          ]
        }
      ]
    },
    {
      "cell_type": "markdown",
      "source": [
        "Матрицы и матричные операции. Часть 2"
      ],
      "metadata": {
        "id": "Vss62hD5vVs_"
      }
    },
    {
      "cell_type": "markdown",
      "source": [
        "Все задания рекомендуется выполнять вручную, затем проверяя полученные результаты с использованием Numpy.\n",
        "\n",
        "__1.__ Вычислить определитель:\n",
        "\n",
        "   a)\n",
        "\n",
        "$$\\begin{vmatrix}\n",
        "sinx & -cosx\\\\ \n",
        "cosx & sinx\n",
        "\\end{vmatrix};$$\n",
        "\n",
        "   б)\n",
        "    \n",
        "$$\\begin{vmatrix}\n",
        "4 & 2 & 3\\\\ \n",
        "0 & 5 & 1\\\\ \n",
        "0 & 0 & 9\n",
        "\\end{vmatrix};$$\n",
        "    \n",
        "   в)\n",
        "\n",
        "$$\\begin{vmatrix}\n",
        "1 & 2 & 3\\\\ \n",
        "4 & 5 & 6\\\\ \n",
        "7 & 8 & 9\n",
        "\\end{vmatrix}.$$"
      ],
      "metadata": {
        "id": "-DxFszFpvaRB"
      }
    },
    {
      "cell_type": "markdown",
      "source": [
        "а) $$sinx^2 + cosx^2 = 1.$$"
      ],
      "metadata": {
        "id": "OQl2wledvudL"
      }
    },
    {
      "cell_type": "markdown",
      "source": [
        "б)"
      ],
      "metadata": {
        "id": "2pnNC_swv657"
      }
    },
    {
      "cell_type": "code",
      "source": [
        "a = np.array([[4, 2, 3], [0, 5, 1], [0, 0, 9]])\n",
        "print(np.linalg.det(a))"
      ],
      "metadata": {
        "id": "ZGavKnL8snJw",
        "colab": {
          "base_uri": "https://localhost:8080/"
        },
        "outputId": "e47db805-988c-4066-9963-c0ccae75b7f3"
      },
      "execution_count": 9,
      "outputs": [
        {
          "output_type": "stream",
          "name": "stdout",
          "text": [
            "180.0\n"
          ]
        }
      ]
    },
    {
      "cell_type": "markdown",
      "source": [
        "в)"
      ],
      "metadata": {
        "id": "OlIZ0YcUwTPJ"
      }
    },
    {
      "cell_type": "code",
      "source": [
        "b = np.array([[1, 2, 3], [4, 5, 6], [7, 8, 9]])\n",
        "print(np.linalg.det(b))"
      ],
      "metadata": {
        "colab": {
          "base_uri": "https://localhost:8080/"
        },
        "id": "VFQ8WoPgwQ2l",
        "outputId": "1eeaf7d4-58e2-427f-c61b-cb54f0f185b6"
      },
      "execution_count": 10,
      "outputs": [
        {
          "output_type": "stream",
          "name": "stdout",
          "text": [
            "0.0\n"
          ]
        }
      ]
    },
    {
      "cell_type": "markdown",
      "source": [
        "__2.__ Определитель матрицы $A$ равен $4$. Найти:\n",
        "\n",
        "   а) $det(A^{2})$;\n",
        "    \n",
        "   б) $det(A^{T})$;\n",
        "    \n",
        "   в) $det(2A)$."
      ],
      "metadata": {
        "id": "aOTvs-vfwesE"
      }
    },
    {
      "cell_type": "markdown",
      "source": [
        "a) 4 * 4 = 16\n",
        "\n",
        "б) $det(A^{T}) = det(A) = 4$\n",
        "\n",
        "d) 2 * 4 = 8"
      ],
      "metadata": {
        "id": "ZhTuU_0BwlIO"
      }
    },
    {
      "cell_type": "markdown",
      "source": [
        "__3.__  Доказать, что матрица\n",
        "\n",
        "$$\\begin{pmatrix}\n",
        "-2 & 7 & -3\\\\ \n",
        "4 & -14 & 6\\\\ \n",
        "-3 & 7 & 13\n",
        "\\end{pmatrix}$$\n",
        "   \n",
        "вырожденная."
      ],
      "metadata": {
        "id": "I44MKXb0xIls"
      }
    },
    {
      "cell_type": "markdown",
      "source": [
        "Матрица вырожденная если определитель равен нулю"
      ],
      "metadata": {
        "id": "vZsveXOyxcpU"
      }
    },
    {
      "cell_type": "code",
      "source": [
        "a = np.array([[-2, 7, -3], [4, -14, 6], [-3, 7, 13]])\n",
        "print(np.linalg.det(a))"
      ],
      "metadata": {
        "colab": {
          "base_uri": "https://localhost:8080/"
        },
        "id": "MRmEBt2mwb7x",
        "outputId": "dcf530ef-a0b4-4477-ed7b-467d8cb1e768"
      },
      "execution_count": 13,
      "outputs": [
        {
          "output_type": "stream",
          "name": "stdout",
          "text": [
            "0.0\n"
          ]
        }
      ]
    },
    {
      "cell_type": "markdown",
      "source": [
        "__4.__ Найти ранг матрицы:\n",
        "\n",
        "   а) $\\begin{pmatrix}\n",
        "1 & 2 & 3\\\\ \n",
        "1 & 1 & 1\\\\ \n",
        "2 & 3 & 4\n",
        "\\end{pmatrix};$\n",
        "\n",
        "   б) $\\begin{pmatrix}\n",
        "0 & 0 & 2 & 1\\\\ \n",
        "0 & 0 & 2 & 2\\\\ \n",
        "0 & 0 & 4 & 3\\\\ \n",
        "2 & 3 & 5 & 6\n",
        "\\end{pmatrix}.$"
      ],
      "metadata": {
        "id": "1AeMgUaNx9Yx"
      }
    },
    {
      "cell_type": "code",
      "source": [
        "a = np.array([[1, 2, 3], [1, 1, 1], [2, 3, 4]])\n",
        "r = np.linalg.matrix_rank(a)\n",
        "\n",
        "print(f'Ранг матрицы: {r}')"
      ],
      "metadata": {
        "colab": {
          "base_uri": "https://localhost:8080/"
        },
        "id": "v2KeV_QUxu7T",
        "outputId": "61f298e1-10b7-4b14-b6f0-448a75fe7b3a"
      },
      "execution_count": 14,
      "outputs": [
        {
          "output_type": "stream",
          "name": "stdout",
          "text": [
            "Ранг матрицы: 2\n"
          ]
        }
      ]
    },
    {
      "cell_type": "code",
      "source": [
        "b = np.array([[0, 0, 2, 1], [0, 0, 2, 2], [0, 0, 4, 3], [2, 3, 5, 6]])\n",
        "r = np.linalg.matrix_rank(b)\n",
        "\n",
        "print(f'Ранг матрицы: {r}')"
      ],
      "metadata": {
        "colab": {
          "base_uri": "https://localhost:8080/"
        },
        "id": "f3NErrzRyQnA",
        "outputId": "fd7cc6e1-d168-471e-a18a-346c2cabc1c0"
      },
      "execution_count": 15,
      "outputs": [
        {
          "output_type": "stream",
          "name": "stdout",
          "text": [
            "Ранг матрицы: 3\n"
          ]
        }
      ]
    }
  ]
}