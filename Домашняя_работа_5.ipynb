{
  "nbformat": 4,
  "nbformat_minor": 0,
  "metadata": {
    "colab": {
      "name": "Домашняя работа 5.ipynb",
      "provenance": [],
      "collapsed_sections": [],
      "authorship_tag": "ABX9TyOV5w6bsbCcDwI1Y9vCpRTj"
    },
    "kernelspec": {
      "name": "python3",
      "display_name": "Python 3"
    },
    "language_info": {
      "name": "python"
    }
  },
  "cells": [
    {
      "cell_type": "markdown",
      "source": [
        "Сингулярное разложение матриц"
      ],
      "metadata": {
        "id": "HellBWOkQWK4"
      }
    },
    {
      "cell_type": "markdown",
      "source": [
        "1. Найти с помощью NumPy SVD для матрицы\n",
        "\n",
        "$$\\begin{pmatrix}\n",
        "1 & 2 & 0\\\\ \n",
        "0 & 0 & 5\\\\ \n",
        "3 & -4 & 2\\\\ \n",
        "1 & 6 & 5\\\\ \n",
        "0 & 1 & 0\n",
        "\\end{pmatrix}.$$"
      ],
      "metadata": {
        "id": "pZc3FzXBQXDm"
      }
    },
    {
      "cell_type": "code",
      "execution_count": 1,
      "metadata": {
        "id": "uyjOlADTQRgB"
      },
      "outputs": [],
      "source": [
        "import numpy as np\n",
        "np.set_printoptions(precision=3, suppress=True)"
      ]
    },
    {
      "cell_type": "code",
      "source": [
        "A = np.array([[1, 2, 0], [0 ,0 ,5], [3, -4, 2], [1, 6, 5], [0, 1, 0]])"
      ],
      "metadata": {
        "id": "59fpfCZ5SR0u"
      },
      "execution_count": 2,
      "outputs": []
    },
    {
      "cell_type": "code",
      "source": [
        "print(f'Матрица A:\\n{A}')"
      ],
      "metadata": {
        "colab": {
          "base_uri": "https://localhost:8080/"
        },
        "id": "nupnDde0ST9k",
        "outputId": "b6c31e3e-9eed-4d78-9b06-9eb1b5d4b149"
      },
      "execution_count": 3,
      "outputs": [
        {
          "output_type": "stream",
          "name": "stdout",
          "text": [
            "Матрица A:\n",
            "[[ 1  2  0]\n",
            " [ 0  0  5]\n",
            " [ 3 -4  2]\n",
            " [ 1  6  5]\n",
            " [ 0  1  0]]\n"
          ]
        }
      ]
    },
    {
      "cell_type": "code",
      "source": [
        "U, s, W = np.linalg.svd(A)\n",
        "V = W.T\n",
        "D = np.zeros_like(A, dtype=float)\n",
        "D[np.diag_indices(min(A.shape))] = s"
      ],
      "metadata": {
        "id": "bJi4SRB4SVqV"
      },
      "execution_count": 4,
      "outputs": []
    },
    {
      "cell_type": "code",
      "source": [
        "print(f'Матрица D:\\n{D}')"
      ],
      "metadata": {
        "colab": {
          "base_uri": "https://localhost:8080/"
        },
        "id": "--mOX0f5Sbix",
        "outputId": "140ecef5-4fd5-44d7-956b-18bc1f081290"
      },
      "execution_count": 6,
      "outputs": [
        {
          "output_type": "stream",
          "name": "stdout",
          "text": [
            "Матрица D:\n",
            "[[8.825 0.    0.   ]\n",
            " [0.    6.141 0.   ]\n",
            " [0.    0.    2.533]\n",
            " [0.    0.    0.   ]\n",
            " [0.    0.    0.   ]]\n"
          ]
        }
      ]
    },
    {
      "cell_type": "code",
      "source": [
        "print(f'Матрица U:\\n{U}')"
      ],
      "metadata": {
        "colab": {
          "base_uri": "https://localhost:8080/"
        },
        "id": "LoUWsTIMSdBN",
        "outputId": "5bef2dde-12da-4ce1-88af-abba41b2fe38"
      },
      "execution_count": 7,
      "outputs": [
        {
          "output_type": "stream",
          "name": "stdout",
          "text": [
            "Матрица U:\n",
            "[[ 0.171  0.157 -0.531 -0.799 -0.162]\n",
            " [ 0.393 -0.529  0.613 -0.434  0.031]\n",
            " [-0.144 -0.824 -0.524  0.14   0.074]\n",
            " [ 0.888  0.061 -0.247  0.378 -0.06 ]\n",
            " [ 0.081  0.108 -0.082 -0.105  0.982]]\n"
          ]
        }
      ]
    },
    {
      "cell_type": "code",
      "source": [
        "print(np.dot(U.T, U))"
      ],
      "metadata": {
        "colab": {
          "base_uri": "https://localhost:8080/"
        },
        "id": "4PLF6KtASfJd",
        "outputId": "d4b2f5a4-e259-48de-feed-c4d245efe95f"
      },
      "execution_count": 8,
      "outputs": [
        {
          "output_type": "stream",
          "name": "stdout",
          "text": [
            "[[ 1.  0. -0. -0. -0.]\n",
            " [ 0.  1.  0.  0.  0.]\n",
            " [-0.  0.  1. -0. -0.]\n",
            " [-0.  0. -0.  1. -0.]\n",
            " [-0.  0. -0. -0.  1.]]\n"
          ]
        }
      ]
    },
    {
      "cell_type": "code",
      "source": [
        "print(f'Матрица V:\\n{V}')"
      ],
      "metadata": {
        "colab": {
          "base_uri": "https://localhost:8080/"
        },
        "id": "rAog7cSeSgwB",
        "outputId": "310870b3-0c74-46b8-90c8-2d80418979c4"
      },
      "execution_count": 9,
      "outputs": [
        {
          "output_type": "stream",
          "name": "stdout",
          "text": [
            "Матрица V:\n",
            "[[ 0.071 -0.367 -0.927]\n",
            " [ 0.717  0.665 -0.208]\n",
            " [ 0.693 -0.65   0.311]]\n"
          ]
        }
      ]
    },
    {
      "cell_type": "code",
      "source": [
        "print(np.dot(V.T, V))"
      ],
      "metadata": {
        "colab": {
          "base_uri": "https://localhost:8080/"
        },
        "id": "Lw8wQ1AUSjIa",
        "outputId": "b459b620-4457-495e-b948-a41bf6732144"
      },
      "execution_count": 10,
      "outputs": [
        {
          "output_type": "stream",
          "name": "stdout",
          "text": [
            "[[ 1.  0. -0.]\n",
            " [ 0.  1. -0.]\n",
            " [-0. -0.  1.]]\n"
          ]
        }
      ]
    },
    {
      "cell_type": "code",
      "source": [
        "print(np.dot(np.dot(U, D), V.T))"
      ],
      "metadata": {
        "colab": {
          "base_uri": "https://localhost:8080/"
        },
        "id": "5-DTR3z1Skf9",
        "outputId": "6715874b-db36-481f-b2f2-10559917e8a8"
      },
      "execution_count": 11,
      "outputs": [
        {
          "output_type": "stream",
          "name": "stdout",
          "text": [
            "[[ 1.  2.  0.]\n",
            " [ 0. -0.  5.]\n",
            " [ 3. -4.  2.]\n",
            " [ 1.  6.  5.]\n",
            " [-0.  1. -0.]]\n"
          ]
        }
      ]
    },
    {
      "cell_type": "markdown",
      "source": [
        "2. Для матрицы из предыдущего задания найти:\n",
        "\n",
        "    а) евклидову норму;\n",
        "    \n",
        "    б) норму Фробениуса."
      ],
      "metadata": {
        "id": "Pr2BnFr0Sv6v"
      }
    },
    {
      "cell_type": "markdown",
      "source": [
        "а) евклидова норма;"
      ],
      "metadata": {
        "id": "jFGXUk9JS6Bv"
      }
    },
    {
      "cell_type": "code",
      "source": [
        "max(s)"
      ],
      "metadata": {
        "colab": {
          "base_uri": "https://localhost:8080/"
        },
        "id": "Z46cKCKLSmR_",
        "outputId": "1f198e3a-5f2a-45aa-cf12-70cdd0d234c4"
      },
      "execution_count": 12,
      "outputs": [
        {
          "output_type": "execute_result",
          "data": {
            "text/plain": [
              "8.824868854820442"
            ]
          },
          "metadata": {},
          "execution_count": 12
        }
      ]
    },
    {
      "cell_type": "markdown",
      "source": [
        "б) норма Фробениуса."
      ],
      "metadata": {
        "id": "U99IWlvPTukx"
      }
    },
    {
      "cell_type": "code",
      "source": [
        "np.linalg.norm(s)"
      ],
      "metadata": {
        "colab": {
          "base_uri": "https://localhost:8080/"
        },
        "id": "XhxHulGATthH",
        "outputId": "e69017b9-7619-4909-8d3d-b4e6fbd7d7e0"
      },
      "execution_count": 13,
      "outputs": [
        {
          "output_type": "execute_result",
          "data": {
            "text/plain": [
              "11.04536101718726"
            ]
          },
          "metadata": {},
          "execution_count": 13
        }
      ]
    },
    {
      "cell_type": "code",
      "source": [
        ""
      ],
      "metadata": {
        "id": "gSnfFGtKT1z6"
      },
      "execution_count": null,
      "outputs": []
    }
  ]
}